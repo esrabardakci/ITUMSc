{
 "cells": [
  {
   "cell_type": "markdown",
   "id": "2e439a47",
   "metadata": {},
   "source": [
    "ESRA BARDAKCI\n",
    "Student Id:702201004"
   ]
  },
  {
   "cell_type": "code",
   "execution_count": 54,
   "id": "a43c6aa4",
   "metadata": {},
   "outputs": [],
   "source": [
    "def problem1(filename):\n",
    "    import pandas as pd\n",
    "    import numpy as np\n",
    "    from sklearn.linear_model import Ridge\n",
    "    from sklearn.ensemble import RandomForestRegressor\n",
    "    from sklearn.model_selection import cross_validate as cv\n",
    "    from sklearn.model_selection import train_test_split\n",
    "    from sklearn import linear_model\n",
    "    from sklearn.linear_model import RidgeCV\n",
    "    from sklearn.preprocessing import StandardScaler\n",
    "    data=pd.read_excel(filename)  \n",
    "    X, y1,y2 = data.iloc[:, :-2], data['Y1'], data['Y2']\n",
    "    \n",
    "    #task1 \n",
    "    #y1\n",
    "    print('problem-1 Task-1')\n",
    "    r_reg_cv = RidgeCV(alphas=[0.001,0.01,0.1,1,10]) #RidgeCV optimal parameter search for alpha parameter set\n",
    "    y1_cv = r_reg_cv.fit(X, y1) #fitting on data \n",
    "    y1_alpha=y1_cv.alpha_   #optimal parameter\n",
    "    print('Optimal alpha parameter of Ridge model for target y1: ',y1_alpha)\n",
    "    model_ridge_y1=Ridge(alpha=y1_alpha) #object creation\n",
    "    from sklearn.model_selection import RepeatedKFold\n",
    "    rkf=RepeatedKFold(n_splits=10,n_repeats=10,random_state=True) #cv definition\n",
    "    from sklearn.model_selection import cross_val_score\n",
    "    mae_y1=-cross_val_score(model_ridge_y1,X,y1,cv=rkf,scoring=\"neg_mean_absolute_error\") #cross-validation with 'mean absolute error' scoring\n",
    "    mse_y1=-cross_val_score(model_ridge_y1,X,y1,cv=rkf,scoring=\"neg_mean_squared_error\") #cross-validation with 'mean squared error' scoring\n",
    "\n",
    "    print('Ridge mean score of mae value for Y1 is: ',mae_y1.mean())\n",
    "    print('Ridge standard deviation of mae value for Y1 is: ',mae_y1.std() )\n",
    "    print('Ridge mean score of mse value for Y1 is: ',mse_y1.mean())\n",
    "    print('Ridge standard deviation of mse value for Y1 is: ',mse_y1.std())\n",
    "    #task1\n",
    "    #y2\n",
    "    y2_cv = r_reg_cv.fit(X, y2) #fitting ridgecv on data with y2 target\n",
    "    y2_alpha=y2_cv.alpha_   #optimal parameter\n",
    "    print('\\nOptimal alpha parameter of Ridge model for target y2 is: ',y2_alpha)\n",
    "    model_ridge_y2=Ridge(alpha=y2_alpha) #model creation \n",
    "    mae_y2=-cross_val_score(model_ridge_y2,X,y2,cv=rkf,scoring=\"neg_mean_absolute_error\") #cross-validation with 'mean absolute error' scoring\n",
    "    mse_y2=-cross_val_score(model_ridge_y2,X,y2,cv=rkf,scoring=\"neg_mean_squared_error\") #cross-validation with 'mean squared error' scoring\n",
    "    print('Ridge mean score of mae value for Y2 is: ',mae_y2.mean())\n",
    "    print('Ridge standard deviation of mae value for Y2 is: ',mae_y2.std() )\n",
    "    print('Ridge mean score of mse value for Y2 is: ',mse_y2.mean())\n",
    "    print('Ridge standard deviation of mse value for Y2 is: ',mse_y2.std() )\n",
    "    \n",
    "    \"------------------------------------------------------------------\"\n",
    "    print('\\n\\nProblem-1 Task-2')\n",
    "    #task2\n",
    "    #y1\n",
    "    from sklearn.model_selection import GridSearchCV\n",
    "    #Creation of parameter grid \n",
    "    parameter_grid = {\n",
    "    'n_estimators': (10,50,100,250,500),\n",
    "    'max_depth': (50,150,250),\n",
    "    'min_samples_split': (2,3),\n",
    "    'min_samples_leaf': (1,2,3)\n",
    "    }\n",
    "    rfr = RandomForestRegressor() #Random Forest model creation\n",
    "    grid_search = GridSearchCV(estimator = rfr, param_grid = parameter_grid,cv = 3, n_jobs = -1, verbose = 0) #grid search model\n",
    "    X_train, X_test, y1_train, y1_test = train_test_split(X, y1) #splitting data\n",
    "    grid_search.fit(X_train, y1_train) #fitting grid model on data\n",
    "    print('Best parameters set for target y1:')\n",
    "    print(grid_search.best_params_)\n",
    "    #assigning parameters to variables\n",
    "    max_depth_y1=grid_search.best_params_['max_depth']\n",
    "    min_samples_leaf_y1=grid_search.best_params_['min_samples_leaf']\n",
    "    min_samples_split_y1=grid_search.best_params_['min_samples_split']\n",
    "    n_estimators_y1=grid_search.best_params_['n_estimators']\n",
    "    clf_y1=RandomForestRegressor(n_estimators=n_estimators_y1,min_samples_leaf=min_samples_leaf_y1,min_samples_split=min_samples_split_y1,max_depth=max_depth_y1) #creating object with best parameters\n",
    "    from sklearn.model_selection import RepeatedKFold\n",
    "    from sklearn.model_selection import cross_val_score\n",
    "    rkf=RepeatedKFold(n_splits=10,n_repeats=10,random_state=True)\n",
    "    #calculating cross validation using mean absolute/squared error scoring functions\n",
    "    mae_y1_forest=-cross_val_score(clf_y1,X,y1,cv=rkf,scoring=\"neg_mean_absolute_error\") \n",
    "    mse_y1_forest=-cross_val_score(clf_y1,X,y1,cv=rkf,scoring=\"neg_mean_squared_error\")\n",
    "    print('Forest mean score of mae value for Y1 is: ',mae_y1_forest.mean())\n",
    "    print('Forest standard deviation of mae value for Y1 is: ',mae_y1_forest.std() )\n",
    "    print('Forest mean score of mse value for Y1 is: ',mse_y1_forest.mean())\n",
    "    print('Forest standard deviation of mse value for Y1 is: ',mse_y1_forest.std() )\n",
    "    \n",
    "    #task2 \n",
    "    #y2\n",
    "    X_train, X_test, y2_train, y2_test = train_test_split(X, y2) #splitting data picking target as y2\n",
    "    grid_search = GridSearchCV(estimator = rfr, param_grid = parameter_grid,cv = 3, n_jobs = -1, verbose = 0) \n",
    "    grid_search.fit(X_train, y2_train) #fitting grid search on the data\n",
    "    print('\\nBest parameters set for target y2:')\n",
    "    print(grid_search.best_params_)\n",
    "    #assigning best parameters to variables\n",
    "    max_depth_y2=grid_search.best_params_['max_depth']\n",
    "    min_samples_leaf_y2=grid_search.best_params_['min_samples_leaf']\n",
    "    min_samples_split_y2=grid_search.best_params_['min_samples_split']\n",
    "    n_estimators_y2=grid_search.best_params_['n_estimators']\n",
    "    clf_y2=RandomForestRegressor(n_estimators=n_estimators_y2,min_samples_leaf=min_samples_leaf_y2,min_samples_split=min_samples_split_y2,max_depth=max_depth_y2) #creating object with best parameters\n",
    "    #calculating cross validation using mean absolute/squared error scoring functions\n",
    "    mae_y2_forest=-cross_val_score(clf_y2,X,y2,cv=rkf,scoring=\"neg_mean_absolute_error\")\n",
    "    mse_y2_forest=-cross_val_score(clf_y2,X,y2,cv=rkf,scoring=\"neg_mean_squared_error\")  \n",
    "    print('Forest mean score of mae value for Y2 is: ',mae_y2_forest.mean())\n",
    "    print('Forest standard deviation of mae value for Y2 is: ',mae_y2_forest.std())\n",
    "    print('Forest mean score of mse value for Y2 is: ',mse_y2_forest.mean())\n",
    "    print('Forest standard deviation of mse value for Y2 is: ',mse_y2_forest.std() )\n",
    "    \n",
    "    \n",
    "    "
   ]
  },
  {
   "cell_type": "code",
   "execution_count": 55,
   "id": "2426fd96",
   "metadata": {
    "scrolled": false
   },
   "outputs": [
    {
     "name": "stdout",
     "output_type": "stream",
     "text": [
      "problem-1 Task-1\n",
      "Optimal alpha parameter of Ridge model for target y1:  0.001\n",
      "Ridge mean score of mae value for Y1 is:  2.0910518036913537\n",
      "Ridge standard deviation of mae value for Y1 is:  0.2361482238285338\n",
      "Ridge mean score of mse value for Y1 is:  8.710823249413732\n",
      "Ridge standard deviation of mse value for Y1 is:  1.7413434482072414\n",
      "\n",
      "Optimal alpha parameter of Ridge model for target y2 is:  0.001\n",
      "Ridge mean score of mae value for Y2 is:  2.2667374490882337\n",
      "Ridge standard deviation of mae value for Y2 is:  0.26950209601233466\n",
      "Ridge mean score of mse value for Y2 is:  10.353927888203657\n",
      "Ridge standard deviation of mse value for Y2 is:  2.531010179953866\n",
      "\n",
      "\n",
      "Problem-1 Task-2\n",
      "Best parameters set for target y1:\n",
      "{'max_depth': 250, 'min_samples_leaf': 1, 'min_samples_split': 2, 'n_estimators': 50}\n",
      "Forest mean score of mae value for Y1 is:  0.31243733096377324\n",
      "Forest standard deviation of mae value for Y1 is:  0.03968503541248176\n",
      "Forest mean score of mse value for Y1 is:  0.21742151000691998\n",
      "Forest standard deviation of mse value for Y1 is:  0.0625389148787975\n",
      "\n",
      "Best parameters set for target y2:\n",
      "{'max_depth': 250, 'min_samples_leaf': 1, 'min_samples_split': 2, 'n_estimators': 10}\n",
      "Forest mean score of mae value for Y2 is:  1.017473998632946\n",
      "Forest standard deviation of mae value for Y2 is:  0.1654416445342916\n",
      "Forest mean score of mse value for Y2 is:  2.872290699128504\n",
      "Forest standard deviation of mse value for Y2 is:  0.8296570784490276\n"
     ]
    }
   ],
   "source": [
    "problem1(\"homework1-data/ENB2012_data.xlsx\")"
   ]
  },
  {
   "cell_type": "code",
   "execution_count": 23,
   "id": "58d7bf3e",
   "metadata": {},
   "outputs": [],
   "source": [
    "def problem2_task1(filename):\n",
    "    import pandas as pd\n",
    "    from sklearn.linear_model import LogisticRegression\n",
    "    from sklearn.model_selection import GridSearchCV\n",
    "    import numpy as np\n",
    "    from sklearn.metrics import roc_auc_score\n",
    "    from sklearn.model_selection import cross_validate as cv\n",
    "    from sklearn.model_selection import RepeatedKFold\n",
    "    from sklearn.preprocessing import StandardScaler\n",
    "    data=pd.read_csv(filename,sep=';')\n",
    "    data_update=pd.get_dummies(data,columns=['job','marital','education','default','housing','loan','contact','month','day_of_week','poutcome','y'],drop_first=True)\n",
    "    X,y= data_update.iloc[:, :-1], data_update['y_yes']   \n",
    "    scaler = StandardScaler()\n",
    "    X_std = scaler.fit_transform(X) #data scaling\n",
    "    cparam_space=np.logspace(-4,4,20)\n",
    "    parameter_grid={'C':cparam_space}\n",
    "    logreg=LogisticRegression(solver='lbfgs', max_iter=10000) #model creation\n",
    "    rkf=RepeatedKFold(n_splits=5, n_repeats=5,random_state=True) #5 fold,5 repetition\n",
    "    logreg_grid= GridSearchCV(estimator=logreg,param_grid=parameter_grid,cv=rkf,scoring='roc_auc') #grid search model creation\n",
    "    from sklearn.model_selection import train_test_split\n",
    "    X_train, X_test, y_train, y_test = train_test_split(X_std, y,test_size=0.02) #splitting data\n",
    "    logreg_grid.fit(X_train, y_train) #fitting training data\n",
    "    d=pd.DataFrame(logreg_grid.cv_results_) #exporting results for plotting\n",
    "    print('best C parameter is',logreg_grid.best_params_,'with',logreg_grid.best_score_,'AUG score')\n",
    "    d=d[['param_C','mean_test_score']]\n",
    "    import matplotlib.pyplot as plt\n",
    "    C=d['param_C'].tolist()\n",
    "    AUC=d['mean_test_score'].tolist()\n",
    "    from matplotlib.ticker import ScalarFormatter\n",
    "    plt.plot(C,AUC,'mo-')\n",
    "    plt.xscale('log')\n",
    "    plt.yticks(np.arange(min(AUC), max(AUC)+0.005, 0.005 ))\n",
    "    plt.title(\"Logistic Regression Model\")\n",
    "    plt.xlabel(\"C parameter\")\n",
    "    plt.ylabel(\"Mean AUC score\")\n",
    "    plt.grid()\n",
    "    plt.show()\n",
    "\n",
    "\n",
    "\n",
    "\n",
    "\n"
   ]
  },
  {
   "cell_type": "code",
   "execution_count": 25,
   "id": "16eba8e8",
   "metadata": {
    "scrolled": false
   },
   "outputs": [
    {
     "name": "stdout",
     "output_type": "stream",
     "text": [
      "best C parameter is {'C': 1.623776739188721} with 0.9351636957716422 AUG score\n"
     ]
    },
    {
     "data": {
      "image/png": "[encoded data removed]",
      "text/plain": [
       "<Figure size 432x288 with 1 Axes>"
      ]
     },
     "metadata": {
      "needs_background": "light"
     },
     "output_type": "display_data"
    }
   ],
   "source": [
    "problem2_task1('homework1-data/bank-additional-full.csv')"
   ]
  },
  {
   "cell_type": "code",
   "execution_count": 48,
   "id": "4b4f83de",
   "metadata": {},
   "outputs": [],
   "source": [
    "def problem2_task2(filename):\n",
    "    import pandas as pd\n",
    "    from sklearn.linear_model import LogisticRegression\n",
    "    from sklearn.model_selection import GridSearchCV\n",
    "    import numpy as np\n",
    "    from sklearn.metrics import roc_auc_score\n",
    "    from sklearn.model_selection import cross_validate as cv\n",
    "    from sklearn.model_selection import RepeatedKFold\n",
    "    from sklearn.preprocessing import StandardScaler\n",
    "    from sklearn.ensemble import RandomForestRegressor\n",
    "    from sklearn.model_selection import train_test_split\n",
    "    from sklearn.model_selection import GridSearchCV\n",
    "    \n",
    "    data=pd.read_csv(filename,sep=';')\n",
    "    data_update=pd.get_dummies(data,columns=['job','marital','education','default','housing','loan','contact','month','day_of_week','poutcome','y'],drop_first=True)   \n",
    "    X,y= data_update.iloc[:, :-1], data_update['y_yes']\n",
    "    scaler = StandardScaler() \n",
    "    X_std = scaler.fit_transform(X) #data scaling\n",
    "    #parameter grid creation for grid search\n",
    "    parameter_grid = {\n",
    "    'n_estimators': (10,50,100,250,500,1000),\n",
    "    'max_depth': (50,150,250),\n",
    "    'min_samples_split': (2,3),\n",
    "    'min_samples_leaf': (1,2,3)\n",
    "    }\n",
    "    rfr = RandomForestRegressor() #Random Forest object creation\n",
    "    rkf=RepeatedKFold(n_splits=3, n_repeats=3,random_state=True) #3-fold, 3 repetition \n",
    "    #grid search model \n",
    "    forest_grid = GridSearchCV(estimator = rfr, param_grid = parameter_grid,cv = rkf, n_jobs = -1, verbose = 0,scoring='roc_auc')\n",
    "    X_train, X_test, y_train, y_test = train_test_split(X_std, y)  #splitting data\n",
    "    forest_grid.fit(X_train, y_train) #fitting the grid model on training data\n",
    "    \n",
    "    print('Best parameter set with ', forest_grid.best_score_,'AUC score is: ')\n",
    "    print(forest_grid.best_params_)\n",
    "    "
   ]
  },
  {
   "cell_type": "code",
   "execution_count": 49,
   "id": "1be63356",
   "metadata": {
    "scrolled": true
   },
   "outputs": [
    {
     "name": "stdout",
     "output_type": "stream",
     "text": [
      "Best parameter set with  0.9448275462821978 AUC score is: \n",
      "{'max_depth': 150, 'min_samples_leaf': 3, 'min_samples_split': 3, 'n_estimators': 1000}\n"
     ]
    }
   ],
   "source": [
    "problem2_task2('homework1-data/bank-additional-full.csv')"
   ]
  },
  {
   "cell_type": "code",
   "execution_count": 28,
   "id": "2cde2168",
   "metadata": {},
   "outputs": [],
   "source": [
    "def problem2_task3(filename):\n",
    "    import pandas as pd\n",
    "    from sklearn.model_selection import GridSearchCV\n",
    "    import numpy as np\n",
    "    from sklearn.metrics import roc_auc_score\n",
    "    from sklearn.model_selection import cross_validate as cv\n",
    "    from sklearn.model_selection import RepeatedKFold\n",
    "    from sklearn.preprocessing import StandardScaler\n",
    "    from sklearn.ensemble import RandomForestRegressor\n",
    "    from sklearn.model_selection import train_test_split\n",
    "    from sklearn.neural_network import MLPClassifier\n",
    "    \n",
    "    data=pd.read_csv(filename,sep=';')\n",
    "    data_update=pd.get_dummies(data,columns=['job','marital','education','default','housing','loan','contact','month','day_of_week','poutcome','y'],drop_first=True)   \n",
    "    X,y= data_update.iloc[:, :-1], data_update['y_yes']\n",
    "    scaler = StandardScaler()\n",
    "    X_std = scaler.fit_transform(X) #data scaling\n",
    "    \n",
    "    mlp=MLPClassifier(max_iter=1000) #model object creation \n",
    "    #parameter grid\n",
    "    param_grid = {\n",
    "        'hidden_layer_sizes': ((10,10,10),(10,10,10,10),(10,10,10,10,10),(10,10,10,10,10,10)),\n",
    "    'alpha': (0.00001, 0.0001, 0.001, 0.01, 0.1)\n",
    "    }\n",
    "    \n",
    "    rkf=RepeatedKFold(n_splits=3, n_repeats=3,random_state=True) #3-fold 3-repetition\n",
    "    #grid search model creation\n",
    "    mlp_grid = GridSearchCV(estimator = mlp, param_grid = param_grid,cv = rkf, n_jobs = -1, verbose = 0,scoring='roc_auc')\n",
    "    X_train, X_test, y_train, y_test = train_test_split(X_std, y) #splitting data\n",
    "    mlp_grid.fit(X_train, y_train) #fitting grid search on data\n",
    "    \n",
    "    print('Best parameter set with :', mlp_grid.best_score_,'AUC score is: ')\n",
    "    print(mlp_grid.best_params_)\n",
    "    "
   ]
  },
  {
   "cell_type": "code",
   "execution_count": 29,
   "id": "72c954e6",
   "metadata": {
    "scrolled": true
   },
   "outputs": [
    {
     "name": "stdout",
     "output_type": "stream",
     "text": [
      "Best parameter set with : 0.9361001322834065 AUC score is: \n",
      "{'alpha': 0.1, 'hidden_layer_sizes': (10, 10, 10)}\n"
     ]
    }
   ],
   "source": [
    "problem2_task3('homework1-data/bank-additional-full.csv')"
   ]
  },
  {
   "cell_type": "code",
   "execution_count": 52,
   "id": "1a74a93d",
   "metadata": {
    "scrolled": true
   },
   "outputs": [],
   "source": [
    "def problem2_task4(filename):\n",
    "    import pandas as pd\n",
    "    from sklearn.linear_model import LogisticRegression\n",
    "    from sklearn.model_selection import GridSearchCV\n",
    "    import numpy as np\n",
    "    from sklearn.metrics import roc_auc_score\n",
    "    from sklearn.model_selection import cross_validate as cv\n",
    "    from sklearn.model_selection import RepeatedKFold\n",
    "    from sklearn.preprocessing import StandardScaler\n",
    "    from sklearn.ensemble import RandomForestRegressor\n",
    "    from sklearn.model_selection import train_test_split\n",
    "    from sklearn.neural_network import MLPClassifier\n",
    "    from sklearn.metrics import classification_report, accuracy_score, make_scorer\n",
    "    from sklearn.model_selection import cross_val_score\n",
    "    from sklearn.ensemble import RandomForestClassifier\n",
    "    \n",
    "    data=pd.read_csv(filename,sep=';')\n",
    "    data_update=pd.get_dummies(data,columns=['job','marital','education','default','housing','loan','contact','month','day_of_week','poutcome','y'],drop_first=True)   \n",
    "    X,y= data_update.iloc[:, :-1], data_update['y_yes']\n",
    "    scaler = StandardScaler() \n",
    "    X_std = scaler.fit_transform(X) #data scaling\n",
    "    X_train, X_test, y_train, y_test = train_test_split(X_std, y,test_size=0.2)\n",
    "    \"--------------for Logistic Regression----------------------\"\n",
    "    trueclassLR = []\n",
    "    predclassLR = []\n",
    "    logreg=LogisticRegression(C=1, max_iter=10000)\n",
    "    rkf=RepeatedKFold(n_splits=5,random_state=True)\n",
    "     #creating a function to fill empty lists of each model\n",
    "    def classification_report_with_accuracy_score(y_train, y_test):\n",
    "        trueclassLR.extend(y_train)\n",
    "        predclassLR.extend(y_test)\n",
    "        return accuracy_score(y_train, y_test)\n",
    "    #cross validation\n",
    "    classification_report_LR = cross_val_score(logreg, X_std, y, cv=rkf,scoring=make_scorer(classification_report_with_accuracy_score))\n",
    "    print(\"Classification report for Logistic Regression:\") #average scores for 5-Fold cross-validation\n",
    "    print(classification_report(trueclassLR, predclassLR))  #classification table  \n",
    "    \"--------------for Neural Network----------------------\"\n",
    "    trueclassNN = []\n",
    "    predclassNN = []\n",
    "    clf=MLPClassifier(max_iter=1000,alpha=0.1, hidden_layer_sizes=(10, 10, 10)) #best parameters\n",
    "    def classification_report_with_accuracy_score(y_train, y_test): \n",
    "        trueclassNN.extend(y_train)\n",
    "        predclassNN.extend(y_test)\n",
    "        return accuracy_score(y_train, y_test)  \n",
    "    \n",
    "    classification_report_NN = cross_val_score(clf, X_std, y, cv=rkf,scoring=make_scorer(classification_report_with_accuracy_score))\n",
    "    print(\"Classification report for Neural Network\")\n",
    "    print(classification_report(trueclassNN, predclassNN)) \n",
    "    \n",
    "    \"---------------for Random Forest-------------------\"\n",
    "\n",
    "    trueclassRF = []\n",
    "    predclassRF = []\n",
    "    rfc = RandomForestClassifier(max_depth=150,min_samples_leaf=3,min_samples_split=3,n_estimators=1000)\n",
    "    def classification_report_with_accuracy_score(y_train, y_test):\n",
    "        trueclassRF.extend(y_train)\n",
    "        predclassRF.extend(y_test)\n",
    "        return accuracy_score(y_train, y_test) \n",
    "\n",
    "    classification_report_RF = cross_val_score(rfc, X_std, y, cv=rkf,scoring=make_scorer(classification_report_with_accuracy_score))\n",
    "    print(\"Classification report for Random Forest\")\n",
    "    print(classification_report(trueclassRF, predclassRF)) \n",
    "\n"
   ]
  },
  {
   "cell_type": "code",
   "execution_count": 53,
   "id": "b7b4c2be",
   "metadata": {
    "scrolled": true
   },
   "outputs": [
    {
     "name": "stdout",
     "output_type": "stream",
     "text": [
      "Classification report for Logistic Regression:\n",
      "              precision    recall  f1-score   support\n",
      "\n",
      "           0       0.93      0.97      0.95    365480\n",
      "           1       0.66      0.42      0.52     46400\n",
      "\n",
      "    accuracy                           0.91    411880\n",
      "   macro avg       0.80      0.70      0.73    411880\n",
      "weighted avg       0.90      0.91      0.90    411880\n",
      "\n",
      "Classification report for Neural Network\n",
      "              precision    recall  f1-score   support\n",
      "\n",
      "           0       0.95      0.96      0.95    365480\n",
      "           1       0.62      0.56      0.59     46400\n",
      "\n",
      "    accuracy                           0.91    411880\n",
      "   macro avg       0.78      0.76      0.77    411880\n",
      "weighted avg       0.91      0.91      0.91    411880\n",
      "\n",
      "Classification report for Random Forest\n",
      "              precision    recall  f1-score   support\n",
      "\n",
      "           0       0.93      0.97      0.95    365480\n",
      "           1       0.68      0.46      0.55     46400\n",
      "\n",
      "    accuracy                           0.91    411880\n",
      "   macro avg       0.81      0.72      0.75    411880\n",
      "weighted avg       0.91      0.91      0.91    411880\n",
      "\n"
     ]
    }
   ],
   "source": [
    "problem2_task4('homework1-data/bank-additional-full.csv')"
   ]
  },
  {
   "cell_type": "code",
   "execution_count": null,
   "id": "e61e4aa8",
   "metadata": {},
   "outputs": [],
   "source": []
  }
 ],
 "metadata": {
  "kernelspec": {
   "display_name": "Python 3 (ipykernel)",
   "language": "python",
   "name": "python3"
  },
  "language_info": {
   "codemirror_mode": {
    "name": "ipython",
    "version": 3
   },
   "file_extension": ".py",
   "mimetype": "text/x-python",
   "name": "python",
   "nbconvert_exporter": "python",
   "pygments_lexer": "ipython3",
   "version": "3.8.12"
  }
 },
 "nbformat": 4,
 "nbformat_minor": 5
}
