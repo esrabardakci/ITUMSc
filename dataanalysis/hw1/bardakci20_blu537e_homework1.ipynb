{
 "cells": [
  {
   "cell_type": "markdown",
   "id": "cae83bd6",
   "metadata": {},
   "source": [
    "Name-Surname = ESRA BARDAKÇI\n",
    "\n",
    "STUDENT ID: 702201004"
   ]
  },
  {
   "cell_type": "markdown",
   "id": "637dde67",
   "metadata": {},
   "source": [
    "PROBLEM 1: \n",
    "\n",
    "A year is a leap year if it is divisible by 4, except that years divisible by 100 are not leap years unless they are also divisible by 400. \n",
    "\n",
    "Write a function that takes a year as an input and determines how many leap years there have been between 1600 and that year."
   ]
  },
  {
   "cell_type": "code",
   "execution_count": 21,
   "id": "6f1695e9",
   "metadata": {
    "scrolled": true
   },
   "outputs": [],
   "source": [
    "def problem1(x):\n",
    "    counter1=0\n",
    "    counter2=0\n",
    "    for i in range(1600,x):\n",
    "        if (i%4==0 and i%100 !=0):\n",
    "            counter1+=1\n",
    "        if (i%400 == 0):\n",
    "            counter2+=1\n",
    "    print(\"the number of leap years from 1600 until\",x,\"is\",counter1+counter2)\n",
    "      "
   ]
  },
  {
   "cell_type": "code",
   "execution_count": 22,
   "id": "3b8d26c9",
   "metadata": {},
   "outputs": [
    {
     "name": "stdout",
     "output_type": "stream",
     "text": [
      "the number of leap years from 1600 until 2020 is 102\n"
     ]
    }
   ],
   "source": [
    "problem1(2020)"
   ]
  },
  {
   "cell_type": "markdown",
   "id": "5e5fa4ce",
   "metadata": {},
   "source": [
    "PROBLEM 2: \n",
    "Write a program that generates a list of 20 random numbers between 1 and 100. When generating random number use random seed as 18.\n",
    "\n",
    "(a) Print the list.\n",
    "\n",
    "\n",
    "(b) Print the sorted list (sort list in the descending order)\n",
    "\n",
    "\n",
    "(c) Print the average of the elements in the list.\n",
    "\n",
    "\n",
    "(d) Print how many even numbers are in the list.\n",
    "\n",
    "\n",
    "(e) Print the largest and smallest values in the list.\n",
    "\n",
    "\n",
    "(f) Print the second largest and second smallest entries in the list."
   ]
  },
  {
   "cell_type": "code",
   "execution_count": 23,
   "id": "650c9a9c",
   "metadata": {},
   "outputs": [],
   "source": [
    "def problem2():\n",
    "    import random\n",
    "    random.seed(18)\n",
    "    b=[]\n",
    "    for i in range(20):\n",
    "        x=random.randint(1,100)\n",
    "        b.append(x)\n",
    "    print(\"the numbers in the list: \\n\",b) #a\n",
    "\n",
    "    \"----------------\"\n",
    "    b.sort(reverse=True)\n",
    "    print(\"the sorted list: \\n\",b) #b\n",
    "    \"------------------\"\n",
    "    summ=0\n",
    "    for i in range(len(b)):\n",
    "        summ+=b[i]\n",
    "    avg=summ/len(b)\n",
    "    print(\"the average of the list:\",avg) #c\n",
    "    \"---------------\"\n",
    "    evennum=0\n",
    "    for i in range(len(b)):\n",
    "        if (b[i]%2==0):\n",
    "            evennum+=1\n",
    "        else:\n",
    "            evennum=evennum\n",
    "    print(\"the number of even-numbers is:\",evennum) #d\n",
    "\n",
    "    \"-----------\"\n",
    "\n",
    "\n",
    "    print(\"the largest element of the list:\",b[0]) #e we have sorted the list before in the descending order\n",
    "    print(\"the smallest element of the list:\",b[len(b)-1]) #e\n",
    "    \"----------------------\"\n",
    "\n",
    "    \n",
    "    for i in range(len(b)):\n",
    "        if (b[len(b)-(i+1)]!=b[len(b)-(i+2)]):\n",
    "            print(\"the second smallest element of the list:\",b[len(b)-(i+2)]) #f\n",
    "            break\n",
    "        \n",
    "    for i in range(len(b)):\n",
    "        if (b[i]!=b[i+1]):\n",
    "            print(\"the second largest element of the list:\", b[i+1]) #f (list is sorted before)\n",
    "            break\n"
   ]
  },
  {
   "cell_type": "code",
   "execution_count": 24,
   "id": "7c57364e",
   "metadata": {},
   "outputs": [
    {
     "name": "stdout",
     "output_type": "stream",
     "text": [
      "the numbers in the list: \n",
      " [24, 16, 85, 58, 43, 31, 26, 63, 81, 64, 24, 62, 38, 59, 34, 26, 33, 89, 16, 42]\n",
      "the sorted list: \n",
      " [89, 85, 81, 64, 63, 62, 59, 58, 43, 42, 38, 34, 33, 31, 26, 26, 24, 24, 16, 16]\n",
      "the average of the list: 45.7\n",
      "the number of even-numbers is: 12\n",
      "the largest element of the list: 89\n",
      "the smallest element of the list: 16\n",
      "the second smallest element of the list: 24\n",
      "the second largest element of the list: 85\n"
     ]
    }
   ],
   "source": [
    "problem2()"
   ]
  },
  {
   "cell_type": "markdown",
   "id": "cac4e713",
   "metadata": {},
   "source": [
    "PROBLEM 3:\n",
    "\n",
    "The Fibonacci numbers are the sequence below, where the first two numbers are 1, and each number thereafter is the sum of the two preceding numbers. Write a program that asks the user how many Fibonacci numbers to print and then prints that many."
   ]
  },
  {
   "cell_type": "code",
   "execution_count": 25,
   "id": "89e8898c",
   "metadata": {},
   "outputs": [],
   "source": [
    "def problem3(x):\n",
    "    mylist=[1,1]\n",
    "    k=0\n",
    "    for i in range(x-2):\n",
    "        s=mylist[k]+mylist[k+1]\n",
    "        mylist.append(s)\n",
    "        k+=1\n",
    "\n",
    "    print(mylist)"
   ]
  },
  {
   "cell_type": "code",
   "execution_count": 26,
   "id": "10b845c1",
   "metadata": {},
   "outputs": [
    {
     "name": "stdout",
     "output_type": "stream",
     "text": [
      "[1, 1, 2, 3, 5, 8, 13, 21, 34, 55]\n"
     ]
    }
   ],
   "source": [
    "problem3(10)"
   ]
  },
  {
   "cell_type": "markdown",
   "id": "48acdaeb",
   "metadata": {},
   "source": [
    "PROBLEM 4:\n",
    "\n",
    "You are given a csv (gdp_per_capita.csv) file for GDP per capita taken from World Bank. The file holds data from 1960 to 2017. Write a function that takes this file as an input and do the following tasks for Turkey:\n",
    "\n",
    "1. a) Calculate the yearly percentage increase compared to previous year and the find the year that has highest increase in terms of percentage.\n",
    "\n",
    "2. b) Find the years that GDP per capita decreased compared to the previous year.\n"
   ]
  },
  {
   "cell_type": "code",
   "execution_count": 27,
   "id": "9582d05f",
   "metadata": {},
   "outputs": [],
   "source": [
    "def problem4(x):\n",
    "    file=open(x,'r')\n",
    "    country='Turkey'\n",
    "    lines=[]\n",
    "    update=[]\n",
    "    year=[]\n",
    "    counter=-1\n",
    "    for line in file:\n",
    "        counter+=1\n",
    "        lines.append(line)   #here we get all the lines in a list\n",
    "        if country in line:\n",
    "            k=counter          #here we obtain line info of Turkey\n",
    "    data=lines[k].split(\";\")  #we need data of k. line (Turkey)\n",
    "    years=lines[0].split(\";\")  #we also need years' info\n",
    "\n",
    "    for i in range(1,len(data)):\n",
    "        update.append(float(data[i])) #here, from the first to the last, we convert gdp infos of Turkey as float numbers\n",
    "   \n",
    "\n",
    "    for i in range(1,len(years)):\n",
    "        year.append(int(years[i]))  #here, we got years in a new list as int data\n",
    "   \n",
    "\n",
    "    percent=[]\n",
    "    for i in range(len(update)-1): #here, we got percentages of each year increase\n",
    "        a=update[i+1]\n",
    "        b=update[i]\n",
    "        x=a-b\n",
    "        result=(x*100)/b\n",
    "        percent.append(result)\n",
    "  \n",
    "\n",
    "    \"---------------------------\"\n",
    "    highest=percent[0]\n",
    "    index=0\n",
    "    start=-1\n",
    "    for i in (percent):\n",
    "        start+=1\n",
    "        if i>highest:\n",
    "            highest=i\n",
    "            index=start\n",
    "    print(\"the highest increase happened in the year\",year[index+1])   #here, we first detected index of highest percentage increase, then using index info, we obtained year info\n",
    "   \n",
    "\n",
    "    dec=[]\n",
    "    for i in range(len(update)-1):\n",
    "        if update[i+1]<update[i]:  #here we get index info of decreased gdps\n",
    "            a=i+1\n",
    "            dec.append(a)\n",
    "\n",
    "    dyear=[]\n",
    "    for i in (dec):\n",
    "        dyear.append(year[i])   #here using index info of decreased years, we printed years\n",
    "    print(\"years that GDP per capita decreased compared to previous year:\\n\",dyear)\n",
    "\n",
    "    file.close()"
   ]
  },
  {
   "cell_type": "code",
   "execution_count": 28,
   "id": "49d7b127",
   "metadata": {},
   "outputs": [
    {
     "name": "stdout",
     "output_type": "stream",
     "text": [
      "the highest increase happened in the year 1998\n",
      "years that GDP per capita decreased compared to previous year:\n",
      " [1961, 1970, 1971, 1980, 1982, 1983, 1984, 1991, 1994, 1999, 2001, 2009, 2014, 2015, 2016, 2017]\n"
     ]
    }
   ],
   "source": [
    "problem4('gdp_per_capita.csv')"
   ]
  },
  {
   "cell_type": "markdown",
   "id": "1b187321",
   "metadata": {},
   "source": [
    "PROBLEM 5:\n",
    "\n",
    "The following two lists contain student names and scores.\n",
    "\n",
    "names = [\"David\", \"Michael\", \"John\", \"James\", \"Greg\", \"Mark\", \"William\", \"Richard\", \"Thomas\", \"Steven\", \"Mary\", \"Susan\", \"Maria\", \"Karen\", \"Lisa\", \"Linda\", \"Donna\", \"Patricia\", \"Debra\", \"Eric\"]\n",
    "\n",
    "scores = [99, 87, 78, 86, 68, 94, 76, 97, 56, 98, 76, 87, 79, 90, 73, 93, 82, 69, 97, 98]\n",
    "\n",
    "By using the two lists above, print the names of students ranked in top-3 highest scores. Your function should take these two lists as the inputs.\n"
   ]
  },
  {
   "cell_type": "code",
   "execution_count": 29,
   "id": "f604c7bd",
   "metadata": {},
   "outputs": [],
   "source": [
    "names = [\"David\", \"Michael\", \"John\", \"James\", \"Greg\", \"Mark\", \"William\", \"Richard\", \"Thomas\", \"Steven\", \"Mary\", \"Susan\", \"Maria\", \"Karen\", \"Lisa\", \"Linda\", \"Donna\", \"Patricia\", \"Debra\", \"Eric\"]\n",
    "scores = [99, 87, 78, 86, 68, 94, 76, 97, 56, 98, 76, 87, 79, 90, 73, 93, 82, 69, 97, 98]\n",
    "\n",
    "def problem5(names,scores):\n",
    "    mylist=[]\n",
    "    namelist=[]\n",
    "    name=[]\n",
    "    n=[0] #this will be used for indexing at the end\n",
    "    scores,names=zip(*sorted(zip(scores,names),reverse=True)) #here, we sorted 2 list according to the scores, keeping the index info between two lists\n",
    "\n",
    "    for i in scores:\n",
    "        a=i\n",
    "        mylist.append(a)      #here, we convert tuple to list\n",
    "\n",
    "    for i in names:\n",
    "        a=i\n",
    "        namelist.append(a)\n",
    "\n",
    "\n",
    "    for j in range(3):\n",
    "        highest=mylist[0]        #this part is for getting top 3 grades with names\n",
    "        index=0\n",
    "        start=-1\n",
    "        for i in mylist:\n",
    "            start+=1\n",
    "            if i>highest:\n",
    "                highest=i\n",
    "                index=start\n",
    "        name.append([namelist[index],highest])\n",
    "        namelist.remove(namelist[index])\n",
    "        mylist.remove(highest)\n",
    "        \"---------------------------------\"  \n",
    "\n",
    "        a=mylist.count(highest)\n",
    "        k=[]\n",
    "        if a!=0:                         #in case of grade repeats, we have a check point here\n",
    "            for i in range(len(mylist)):\n",
    "                if mylist[i]==highest:\n",
    "                    highest=mylist[i]\n",
    "                    name.append([namelist[i],highest])\n",
    "                    k.append(i)\n",
    "    \n",
    "        for i in range(len(k)):\n",
    "            namelist.remove(namelist[0])  #our list is already sorted so, each time we remove an element, next will be new zero index and we will do this until we reach the number of highest elements of that step\n",
    "            mylist.remove(highest)   #each time, we delete corresponding score of removed names\n",
    "\n",
    "        n.append(len(name)) #this will be used for indexing, while printing top 3\n",
    "\n",
    "#this part for outputs  \n",
    "    m=0\n",
    "    p=[]\n",
    "    for i in range(3): #this always print top 3, taking in the consideration of the possible repeats of top 3 grades\n",
    "        h=[]\n",
    "        s=[]\n",
    "        p.append(name[n[m]:n[i+1]]) #here, each time, we slide ranges to be printed\n",
    "        c=abs(n[m]-n[i+1])\n",
    "        \n",
    "        while (c!=0):\n",
    "            h.append(p[i][c-1][0])\n",
    "    \n",
    "            c-=1\n",
    "        s.append(p[i][c-1][1])\n",
    "        print(\"rank\",i+1,h,\"score: \",s[0])\n",
    "        m+=1\n",
    "\n",
    "\n",
    "\n"
   ]
  },
  {
   "cell_type": "code",
   "execution_count": 30,
   "id": "175f48eb",
   "metadata": {},
   "outputs": [
    {
     "name": "stdout",
     "output_type": "stream",
     "text": [
      "rank 1 ['David'] score:  99\n",
      "rank 2 ['Eric', 'Steven'] score:  98\n",
      "rank 3 ['Debra', 'Richard'] score:  97\n"
     ]
    }
   ],
   "source": [
    "problem5(names,scores)"
   ]
  },
  {
   "cell_type": "markdown",
   "id": "70127036",
   "metadata": {},
   "source": [
    "PROBLEM 6:\n",
    "\n",
    "In a magic square, every row, column, and the two diagonals add up to the same value. \n",
    "\n",
    "Create random 4x4 matrices ( two dimensional lists) until you find a magic square. Print the magic square and how many times you created a random matrix. The number inside these random 4x4 matrices should range between 1 and 4. \n",
    "\n",
    "Please note that running this calculation might take a while.\n"
   ]
  },
  {
   "cell_type": "code",
   "execution_count": 31,
   "id": "344a7233",
   "metadata": {},
   "outputs": [],
   "source": [
    "def problem6():\n",
    "    import random\n",
    "    def creatematris():  #this funtion inside the main problem6() function is for creating random matrices to be used\n",
    "        a=[]\n",
    "        for i in range(4):\n",
    "            b=[]\n",
    "            for j in range(4):\n",
    "                x=random.randint(1,4)\n",
    "                b.append(x)\n",
    "            a.append(b)\n",
    "        return a\n",
    "\n",
    "    \n",
    "    \"----------------\"\n",
    "    def check():                  #this function put all the rows, columns and diagonals' summations in a list (mylist)\n",
    "        mylist=[]\n",
    "        matrix=creatematris()\n",
    "        dleft=0\n",
    "        dright=0\n",
    "        for i in range(4):\n",
    "            dleft+=matrix[i][i]\n",
    "            dright+=matrix[i][3-i]\n",
    "            rnum=0\n",
    "            cnum=0\n",
    "            for j in range(4):\n",
    "                rnum+=matrix[i][j]\n",
    "                cnum+=matrix[j][i]\n",
    "            mylist.append(rnum)\n",
    "            mylist.append(cnum)\n",
    "        mylist.append(dleft)\n",
    "        mylist.append(dright)\n",
    "        return mylist,matrix\n",
    "     \n",
    "\n",
    "    \"-------------------\"\n",
    "    counter=0\n",
    "    while True:       #here, all the data in mylist should be equal, in order to check that we look repeats of the first element in mylist.\n",
    "        counter+=1\n",
    "        mylist,matrix=check()\n",
    "        number=mylist.count(mylist[0])\n",
    "        number2=len(mylist)\n",
    "        if(number!=number2):    #if first element's repeats is not equal to the length of the list, our matrix is not magic matrix\n",
    "            continue\n",
    "        else:\n",
    "            break\n",
    "    print(\"the number of random matrices created:\",counter)   \n",
    "    print(\"the magic square found is\",matrix)\n"
   ]
  },
  {
   "cell_type": "code",
   "execution_count": 32,
   "id": "2398685f",
   "metadata": {},
   "outputs": [
    {
     "name": "stdout",
     "output_type": "stream",
     "text": [
      "the number of random matrices created: 178830\n",
      "the magic square found is [[3, 4, 1, 2], [2, 3, 3, 2], [2, 2, 2, 4], [3, 1, 4, 2]]\n"
     ]
    }
   ],
   "source": [
    "problem6()"
   ]
  },
  {
   "cell_type": "markdown",
   "id": "a0014a1f",
   "metadata": {},
   "source": [
    "PROBLEM 7:\n",
    "\n",
    "In this problem, write a function that returns the number of hours you spent on this homework and difficulty level of the homework. \n",
    "\n",
    "Difficulty level should be between 1 and 5 referring very easy, easy, medium, difficult, very difficult respectively. The function should write the output into a file named “homework1_survey.txt”.\n",
    "\n",
    "When I call Problem6() function, I should get a text file similar to the text file given below. Note the number of hours spent or difficulty level should not be input arguments.\n",
    "This problem is intended to serve as survey."
   ]
  },
  {
   "cell_type": "code",
   "execution_count": 33,
   "id": "fbfc3967",
   "metadata": {},
   "outputs": [],
   "source": [
    "def problem7():\n",
    "    file=open('homework1_survey.txt','w')\n",
    "    file.write('Hours spend on this homework: 12\\nDifficulty level of this homework: 3')\n",
    "    file.close()"
   ]
  },
  {
   "cell_type": "code",
   "execution_count": 34,
   "id": "704342dc",
   "metadata": {},
   "outputs": [],
   "source": [
    "problem7()"
   ]
  }
 ],
 "metadata": {
  "kernelspec": {
   "display_name": "Python 3 (ipykernel)",
   "language": "python",
   "name": "python3"
  },
  "language_info": {
   "codemirror_mode": {
    "name": "ipython",
    "version": 3
   },
   "file_extension": ".py",
   "mimetype": "text/x-python",
   "name": "python",
   "nbconvert_exporter": "python",
   "pygments_lexer": "ipython3",
   "version": "3.8.12"
  }
 },
 "nbformat": 4,
 "nbformat_minor": 5
}
