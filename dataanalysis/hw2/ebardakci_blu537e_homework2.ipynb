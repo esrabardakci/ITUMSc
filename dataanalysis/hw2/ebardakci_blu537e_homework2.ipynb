{
 "cells": [
  {
   "cell_type": "raw",
   "id": "6be2fa7e",
   "metadata": {},
   "source": [
    "STUDENT NAME=ESRA BARDAKCI\n",
    "STUDENT ID=702201004\n"
   ]
  },
  {
   "cell_type": "code",
   "execution_count": 1,
   "id": "ecf5f30e",
   "metadata": {},
   "outputs": [],
   "source": [
    "def Problem1(datafile):\n",
    "    import pandas as pd\n",
    "    data=pd.read_csv(datafile,encoding=\"latin-1\")\n",
    "    a=data.pivot_table(values='Mileage',index='Type',columns='Purchased',aggfunc='mean') #question 1-a section\n",
    "    def peak_to_peak(x):\n",
    "        return x.max()-x.min()\n",
    "    b=data.groupby('Type').agg({'Vehicle_Age':peak_to_peak}) #question 1-b section\n",
    "    print(a)\n",
    "    print('\\n',b)"
   ]
  },
  {
   "cell_type": "code",
   "execution_count": 2,
   "id": "2282d9eb",
   "metadata": {},
   "outputs": [
    {
     "name": "stdout",
     "output_type": "stream",
     "text": [
      "Purchased            New      Used\n",
      "Type                              \n",
      "Large SUV  130905.000000  185397.0\n",
      "Mid-size    11424.333333  106810.0\n",
      "Minivan    180643.000000  182584.0\n",
      "Small       80405.833333  131022.4\n",
      "Small SUV   29823.000000  113121.0\n",
      "\n",
      "            Vehicle_Age\n",
      "Type                  \n",
      "Large SUV         7.00\n",
      "Mid-size         14.75\n",
      "Minivan           5.00\n",
      "Small            11.00\n",
      "Small SUV        10.00\n"
     ]
    }
   ],
   "source": [
    "Problem1(\"homework2_data/AutoSurvey.csv\")"
   ]
  },
  {
   "cell_type": "code",
   "execution_count": 10,
   "id": "e78183ca",
   "metadata": {},
   "outputs": [],
   "source": [
    "def Problem2(readfile):\n",
    "    import pandas as pd\n",
    "    data2=pd.read_csv(readfile,encoding=\"latin-1\")\n",
    "    result_1=data2['Complaint Type'].value_counts() #a\n",
    "    \n",
    "    result_b=len(data2['Agency Name'].unique()) #b  \n",
    "    \n",
    "    result_c=data2.groupby('Borough')['Complaint Type'].value_counts() #c\n",
    "    final_c=result_c.loc[pd.IndexSlice[:,'Illegal Parking']].sort_values(ascending=False)[:5].rename_axis(\"\") #c   \n",
    "      \n",
    "    print(result_1[:10]) #a\n",
    "    print(\"\\nThe number of unique Agency Names:\\n\",result_b) #b\n",
    "    print(\"\\n\",final_c)  #c\n",
    "    "
   ]
  },
  {
   "cell_type": "code",
   "execution_count": 11,
   "id": "e89c931c",
   "metadata": {},
   "outputs": [
    {
     "name": "stdout",
     "output_type": "stream",
     "text": [
      "HEATING                   14200\n",
      "GENERAL CONSTRUCTION       7471\n",
      "Street Light Condition     7117\n",
      "DOF Literature Request     5797\n",
      "PLUMBING                   5373\n",
      "PAINT - PLASTER            5149\n",
      "Blocked Driveway           4590\n",
      "NONCONST                   3998\n",
      "Street Condition           3473\n",
      "Illegal Parking            3343\n",
      "Name: Complaint Type, dtype: int64\n",
      "\n",
      "The number of unique Agency Names:\n",
      " 135\n",
      "\n",
      " \n",
      "BROOKLYN         1147\n",
      "QUEENS            887\n",
      "MANHATTAN         640\n",
      "BRONX             391\n",
      "STATEN ISLAND     278\n",
      "Name: Complaint Type, dtype: int64\n"
     ]
    }
   ],
   "source": [
    "Problem2(\"homework2_data/311-service-requests.csv\")"
   ]
  },
  {
   "cell_type": "code",
   "execution_count": 6,
   "id": "c9e200aa",
   "metadata": {},
   "outputs": [],
   "source": [
    "def Problem3(readfile):\n",
    "    import pandas as pd\n",
    "    data3=pd.read_csv(readfile,encoding=\"latin-1\")\n",
    "    result_3a=len(data3['Item'].unique()) #3a\n",
    "   \n",
    "    result_3c=data3.groupby('Item')['Transaction'].value_counts() #3c\n",
    "    final_3c=len(result_3c['Coffee'])  #3c\n",
    "    \n",
    "    data3['Quantity Sold']=1\n",
    "    result_3b=data3.pivot_table(values='Quantity Sold',index='Item',aggfunc='sum') #3b\n",
    "    result_3b=result_3b.sort_values('Quantity Sold',ascending=False) #3b\n",
    "    result_3b=result_3b.reset_index() #3b\n",
    "    result_3b.index+=1 #3b\n",
    "   \n",
    "    print(\"the number of unique Items:\",result_3a) #3a   \n",
    "    print('\\n',result_3b.head()) #3b\n",
    "    print('\\nthe number of transactions that have Coffee is',final_3c) #3c\n"
   ]
  },
  {
   "cell_type": "code",
   "execution_count": 7,
   "id": "e3c5762c",
   "metadata": {},
   "outputs": [
    {
     "name": "stdout",
     "output_type": "stream",
     "text": [
      "the number of unique Items: 95\n",
      "\n",
      "      Item  Quantity Sold\n",
      "1  Coffee           5471\n",
      "2   Bread           3325\n",
      "3     Tea           1435\n",
      "4    Cake           1025\n",
      "5  Pastry            856\n",
      "\n",
      "the number of transactions that have Coffee is 4528\n"
     ]
    }
   ],
   "source": [
    "Problem3('homework2_data/BreadBasket_DMS.csv')"
   ]
  },
  {
   "cell_type": "code",
   "execution_count": 8,
   "id": "730274af",
   "metadata": {},
   "outputs": [],
   "source": [
    "def Problem4(readfile):\n",
    "    import pandas as pd\n",
    "    data4=pd.read_csv(readfile,encoding='utf-8-sig')\n",
    "    \n",
    "    a=data4[['Country Name','2016']].sort_values('2016').reset_index(drop=True) #a\n",
    "    a.index+=1 #a\n",
    "    a_update=a.iloc[:10] #a \n",
    "    \n",
    "    b=data4.pivot_table(['2010','2016'],index=['Country Name']) #b\n",
    "    b['Percentage Increase']=((b['2016']-b['2010'])/b['2010'])*100 #b\n",
    "    b=b.sort_values('Percentage Increase',ascending=False).reset_index() #b\n",
    "    b.index+=1 #b\n",
    "    b_update=b[:10] #b\n",
    "    \n",
    "    c=data4.pivot_table(['2010','2016'],index=['Country Name']) #c\n",
    "    c['Percentage Increase']=((c['2016']-c['2010'])/c['2010'])*100  #c\n",
    "    c['2016']=c['2016'].astype(float)  #c\n",
    "    boolindex=(c['2016']>10000000) & (c['2010']>10000000)  #c\n",
    "    c10=c[boolindex]  #c\n",
    "    c10=c10.sort_values('Percentage Increase',ascending=False).reset_index() #c\n",
    "    c10.index+=1 #c\n",
    "    c_update=c10[:10]  #c\n",
    "    \n",
    "    \n",
    "    d=data4.pivot_table(columns='Country Name') #d\n",
    "    d['world_pct_change']=(d['World'].pct_change()*100) #d\n",
    "    d_update=d.sort_values('world_pct_change',ascending=False) #d\n",
    "    d_update=d_update.reset_index() #d\n",
    "    year=d_update['index'][0] #d\n",
    "    highest_percentage=d_update[\"world_pct_change\"][0] #d\n",
    "    \n",
    "    print(a_update)  #a\n",
    "    print('\\n\\n',b_update)  #b\n",
    "    print('\\n\\n',c_update) #c\n",
    "    print('\\n',year,'has the highest percentage increase, which is',highest_percentage) #d"
   ]
  },
  {
   "cell_type": "code",
   "execution_count": 9,
   "id": "54668cd2",
   "metadata": {},
   "outputs": [
    {
     "name": "stdout",
     "output_type": "stream",
     "text": [
      "                Country Name     2016\n",
      "1                     Tuvalu  11097.0\n",
      "2                      Nauru  13049.0\n",
      "3                      Palau  21503.0\n",
      "4     British Virgin Islands  30661.0\n",
      "5   St. Martin (French part)  31949.0\n",
      "6                 San Marino  33203.0\n",
      "7                  Gibraltar  34408.0\n",
      "8   Turks and Caicos Islands  34900.0\n",
      "9              Liechtenstein  37666.0\n",
      "10                    Monaco  38499.0\n",
      "\n",
      "\n",
      "          Country Name        2010        2016  Percentage Increase\n",
      "1                Oman   3041460.0   4424762.0            45.481512\n",
      "2               Qatar   1779676.0   2569804.0            44.397295\n",
      "3             Lebanon   4337141.0   6006668.0            38.493722\n",
      "4              Kuwait   2998083.0   4052584.0            35.172509\n",
      "5              Jordan   7182390.0   9455802.0            31.652584\n",
      "6               Nauru     10025.0     13049.0            30.164589\n",
      "7   Equatorial Guinea    951104.0   1221490.0            28.428647\n",
      "8               Niger  16425578.0  20672987.0            25.858506\n",
      "9              Angola  23369131.0  28813463.0            23.297109\n",
      "10             Uganda  33915133.0  41487965.0            22.328770\n",
      "\n",
      "\n",
      "         Country Name        2010        2016  Percentage Increase\n",
      "1              Niger  16425578.0  20672987.0            25.858506\n",
      "2             Angola  23369131.0  28813463.0            23.297109\n",
      "3             Uganda  33915133.0  41487965.0            22.328770\n",
      "4   Congo, Dem. Rep.  64523263.0  78736153.0            22.027544\n",
      "5               Chad  11887202.0  14452543.0            21.580697\n",
      "6        South Sudan  10067192.0  12230730.0            21.490978\n",
      "7               Iraq  30762701.0  37202572.0            20.934023\n",
      "8           Tanzania  46098591.0  55572201.0            20.550758\n",
      "9        Afghanistan  28803167.0  34656032.0            20.320213\n",
      "10            Zambia  13850033.0  16591390.0            19.793144\n",
      "\n",
      " 1969 has the highest percentage increase, which is 2.1164342259097246\n"
     ]
    }
   ],
   "source": [
    "Problem4('homework2_data/country_population.csv')"
   ]
  },
  {
   "cell_type": "code",
   "execution_count": null,
   "id": "302196b2",
   "metadata": {},
   "outputs": [],
   "source": []
  }
 ],
 "metadata": {
  "kernelspec": {
   "display_name": "Python 3 (ipykernel)",
   "language": "python",
   "name": "python3"
  },
  "language_info": {
   "codemirror_mode": {
    "name": "ipython",
    "version": 3
   },
   "file_extension": ".py",
   "mimetype": "text/x-python",
   "name": "python",
   "nbconvert_exporter": "python",
   "pygments_lexer": "ipython3",
   "version": "3.8.12"
  }
 },
 "nbformat": 4,
 "nbformat_minor": 5
}
